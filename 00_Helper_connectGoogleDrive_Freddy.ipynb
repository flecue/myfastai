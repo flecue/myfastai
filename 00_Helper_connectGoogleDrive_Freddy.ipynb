{
  "nbformat": 4,
  "nbformat_minor": 0,
  "metadata": {
    "colab": {
      "name": "00_Helper_connectGoogleDrive_Freddy.ipynb",
      "provenance": [],
      "authorship_tag": "ABX9TyMpxJ0cZDskjj18vi+o7mFY",
      "include_colab_link": true
    },
    "kernelspec": {
      "name": "python3",
      "display_name": "Python 3"
    }
  },
  "cells": [
    {
      "cell_type": "markdown",
      "metadata": {
        "id": "view-in-github",
        "colab_type": "text"
      },
      "source": [
        "<a href=\"https://colab.research.google.com/github/flecue/myfastai/blob/master/00_Helper_connectGoogleDrive_Freddy.ipynb\" target=\"_parent\"><img src=\"https://colab.research.google.com/assets/colab-badge.svg\" alt=\"Open In Colab\"/></a>"
      ]
    },
    {
      "cell_type": "code",
      "metadata": {
        "id": "7XP1fsqn5JCV",
        "colab_type": "code",
        "colab": {
          "base_uri": "https://localhost:8080/",
          "height": 34
        },
        "outputId": "1f1a4d9f-bb69-446b-cda9-dd23001b5bdd"
      },
      "source": [
        "from google.colab import drive\n",
        "drive.mount('/content/drive')"
      ],
      "execution_count": null,
      "outputs": [
        {
          "output_type": "stream",
          "text": [
            "Mounted at /content/drive\n"
          ],
          "name": "stdout"
        }
      ]
    },
    {
      "cell_type": "code",
      "metadata": {
        "id": "yy4imFsz5nwd",
        "colab_type": "code",
        "colab": {
          "base_uri": "https://localhost:8080/",
          "height": 555
        },
        "outputId": "400f840b-83e5-483d-eadc-d954ab4b647d"
      },
      "source": [
        "%ls\n",
        "%cd \"My Drive\"\n",
        "%cd 'Colab Notebooks'\n",
        "%ls"
      ],
      "execution_count": null,
      "outputs": [
        {
          "output_type": "stream",
          "text": [
            "'AI@Centech-2020-Season-2.gsheet'\n",
            "\u001b[0m\u001b[01;34m'Colab Notebooks'\u001b[0m/\n",
            "'Feuille de calcul sans titre.gsheet'\n",
            " Final-Review_Response_R5+R6.xlsx\n",
            " ISWC2020_v1_bf.docx\n",
            " \u001b[01;34mISWC-SEMIFORM\u001b[0m/\n",
            "'Mitacs Accelerate Proposal_AC2020.docx'\n",
            " RLT-0-4.zip\n",
            "\u001b[01;34m'Software engineering Workshop - PDF SLIDES'\u001b[0m/\n",
            "[Errno 2] No such file or directory: 'My Drive'\n",
            "/content/drive/My Drive\n",
            "/content/drive/My Drive/Colab Notebooks\n",
            " 3-4-transfer_learning_done.ipynb\n",
            " 3-5-word_embeddings_done.ipynb\n",
            " 3-6-text_classification_rnn_done.ipynb\n",
            " 3-7-text_generation_done.ipynb\n",
            "'4-1-AmpliGraph Tutorial: Getting Started with AmpliGraph_todo.ipynb'\n",
            " CNNs-Part1_done.ipynb\n",
            " CNNs-Part1_todo.ipynb\n",
            " GCN.ipynb\n",
            " pytorch-examples.ipynb\n",
            " PyTorch-Model-Visualization.ipynb\n",
            "'pytorch-X-use-gpu-train-model ipynb'\n",
            "'TensorFlow with GPU done'\n",
            "'~test.ipynb'\n",
            " text_classification_rnn_toodo.ipynb\n",
            " text_generation_todo.ipynb\n",
            " transfer_learning_done.ipynb\n",
            " transfer_learning_todo.ipynb\n",
            " Untitled0.ipynb\n",
            " word_embeddings_todo.ipynb\n"
          ],
          "name": "stdout"
        }
      ]
    },
    {
      "cell_type": "code",
      "metadata": {
        "id": "iZPdklzM5rvy",
        "colab_type": "code",
        "colab": {}
      },
      "source": [
        ""
      ],
      "execution_count": null,
      "outputs": []
    }
  ]
}