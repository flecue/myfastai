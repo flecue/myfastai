{
  "nbformat": 4,
  "nbformat_minor": 0,
  "metadata": {
    "jupytext": {
      "split_at_heading": true
    },
    "kernelspec": {
      "display_name": "Python 3",
      "language": "python",
      "name": "python3"
    },
    "language_info": {
      "codemirror_mode": {
        "name": "ipython",
        "version": 3
      },
      "file_extension": ".py",
      "mimetype": "text/x-python",
      "name": "python",
      "nbconvert_exporter": "python",
      "pygments_lexer": "ipython3",
      "version": "3.7.7"
    },
    "toc": {
      "base_numbering": 1,
      "nav_menu": {},
      "number_sections": false,
      "sideBar": true,
      "skip_h1_title": true,
      "title_cell": "Table of Contents",
      "title_sidebar": "Contents",
      "toc_cell": false,
      "toc_position": {},
      "toc_section_display": true,
      "toc_window_display": false
    },
    "colab": {
      "name": "bear_classifier.ipynb",
      "provenance": []
    },
    "accelerator": "GPU",
    "widgets": {
      "application/vnd.jupyter.widget-state+json": {
        "ba1b7ff4b09d479fa191698c5cd48c89": {
          "model_module": "@jupyter-widgets/controls",
          "model_name": "VBoxModel",
          "state": {
            "_view_name": "VBoxView",
            "_dom_classes": [],
            "_model_name": "VBoxModel",
            "_view_module": "@jupyter-widgets/controls",
            "_model_module_version": "1.5.0",
            "_view_count": null,
            "_view_module_version": "1.5.0",
            "box_style": "",
            "layout": "IPY_MODEL_2fbd3033f94b42d0b03a9d75eb7e61c5",
            "_model_module": "@jupyter-widgets/controls",
            "children": [
              "IPY_MODEL_920cf61a12e949b2bfa595799f3246be",
              "IPY_MODEL_57d0b807bb404086bb4ff0b06ad72362",
              "IPY_MODEL_496550a8b15b41688ec7787935594cb4",
              "IPY_MODEL_27c64b85f52640ca811b1aa78cef1dd2"
            ]
          }
        },
        "2fbd3033f94b42d0b03a9d75eb7e61c5": {
          "model_module": "@jupyter-widgets/base",
          "model_name": "LayoutModel",
          "state": {
            "_view_name": "LayoutView",
            "grid_template_rows": null,
            "right": null,
            "justify_content": null,
            "_view_module": "@jupyter-widgets/base",
            "overflow": null,
            "_model_module_version": "1.2.0",
            "_view_count": null,
            "flex_flow": null,
            "width": null,
            "min_width": null,
            "border": null,
            "align_items": null,
            "bottom": null,
            "_model_module": "@jupyter-widgets/base",
            "top": null,
            "grid_column": null,
            "overflow_y": null,
            "overflow_x": null,
            "grid_auto_flow": null,
            "grid_area": null,
            "grid_template_columns": null,
            "flex": null,
            "_model_name": "LayoutModel",
            "justify_items": null,
            "grid_row": null,
            "max_height": null,
            "align_content": null,
            "visibility": null,
            "align_self": null,
            "height": null,
            "min_height": null,
            "padding": null,
            "grid_auto_rows": null,
            "grid_gap": null,
            "max_width": null,
            "order": null,
            "_view_module_version": "1.2.0",
            "grid_template_areas": null,
            "object_position": null,
            "object_fit": null,
            "grid_auto_columns": null,
            "margin": null,
            "display": null,
            "left": null
          }
        },
        "920cf61a12e949b2bfa595799f3246be": {
          "model_module": "@jupyter-widgets/controls",
          "model_name": "LabelModel",
          "state": {
            "_view_name": "LabelView",
            "style": "IPY_MODEL_0b75a838f9074309975f7ebc8bb82f13",
            "_dom_classes": [],
            "description": "",
            "_model_name": "LabelModel",
            "placeholder": "​",
            "_view_module": "@jupyter-widgets/controls",
            "_model_module_version": "1.5.0",
            "value": "Select your bear!",
            "_view_count": null,
            "_view_module_version": "1.5.0",
            "description_tooltip": null,
            "_model_module": "@jupyter-widgets/controls",
            "layout": "IPY_MODEL_b8de064a52084667af81d740ac6e95ad"
          }
        },
        "57d0b807bb404086bb4ff0b06ad72362": {
          "model_module": "@jupyter-widgets/controls",
          "model_name": "FileUploadModel",
          "state": {
            "_view_name": "FileUploadView",
            "_counter": 1,
            "style": "IPY_MODEL_5d024eaf9b02464aa5481799c66303cd",
            "_dom_classes": [],
            "description": "Upload",
            "multiple": false,
            "_model_name": "FileUploadModel",
            "data": [
              null
            ],
            "button_style": "",
            "_view_module": "@jupyter-widgets/controls",
            "_model_module_version": "1.5.0",
            "accept": "",
            "_view_count": null,
            "disabled": false,
            "_view_module_version": "1.5.0",
            "error": "",
            "description_tooltip": null,
            "metadata": [
              {
                "name": "00000030.jpg",
                "type": "image/jpeg",
                "size": 113613,
                "lastModified": 1600806801680
              }
            ],
            "_model_module": "@jupyter-widgets/controls",
            "layout": "IPY_MODEL_69dbf4ccb3434e01a38f2fabddbb37c9",
            "icon": "upload"
          }
        },
        "496550a8b15b41688ec7787935594cb4": {
          "model_module": "@jupyter-widgets/output",
          "model_name": "OutputModel",
          "state": {
            "_view_name": "OutputView",
            "msg_id": "",
            "_dom_classes": [],
            "_model_name": "OutputModel",
            "outputs": [
              {
                "output_type": "display_data",
                "metadata": {
                  "tags": []
                },
                "image/png": "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\n",
                "text/plain": "<PIL.Image.Image image mode=RGB size=128x85 at 0x7F43B7841FD0>"
              }
            ],
            "_view_module": "@jupyter-widgets/output",
            "_model_module_version": "1.0.0",
            "_view_count": null,
            "_view_module_version": "1.0.0",
            "layout": "IPY_MODEL_6890a33650b94609ad135e2657b12d52",
            "_model_module": "@jupyter-widgets/output"
          }
        },
        "27c64b85f52640ca811b1aa78cef1dd2": {
          "model_module": "@jupyter-widgets/controls",
          "model_name": "LabelModel",
          "state": {
            "_view_name": "LabelView",
            "style": "IPY_MODEL_f2c406453916485eaaca200d5cda2f05",
            "_dom_classes": [],
            "description": "",
            "_model_name": "LabelModel",
            "placeholder": "​",
            "_view_module": "@jupyter-widgets/controls",
            "_model_module_version": "1.5.0",
            "value": "Prediction: grizzly; Probability: 1.0000",
            "_view_count": null,
            "_view_module_version": "1.5.0",
            "description_tooltip": null,
            "_model_module": "@jupyter-widgets/controls",
            "layout": "IPY_MODEL_9127086817274fb5835624b2775714fd"
          }
        },
        "0b75a838f9074309975f7ebc8bb82f13": {
          "model_module": "@jupyter-widgets/controls",
          "model_name": "DescriptionStyleModel",
          "state": {
            "_view_name": "StyleView",
            "_model_name": "DescriptionStyleModel",
            "description_width": "",
            "_view_module": "@jupyter-widgets/base",
            "_model_module_version": "1.5.0",
            "_view_count": null,
            "_view_module_version": "1.2.0",
            "_model_module": "@jupyter-widgets/controls"
          }
        },
        "b8de064a52084667af81d740ac6e95ad": {
          "model_module": "@jupyter-widgets/base",
          "model_name": "LayoutModel",
          "state": {
            "_view_name": "LayoutView",
            "grid_template_rows": null,
            "right": null,
            "justify_content": null,
            "_view_module": "@jupyter-widgets/base",
            "overflow": null,
            "_model_module_version": "1.2.0",
            "_view_count": null,
            "flex_flow": null,
            "width": null,
            "min_width": null,
            "border": null,
            "align_items": null,
            "bottom": null,
            "_model_module": "@jupyter-widgets/base",
            "top": null,
            "grid_column": null,
            "overflow_y": null,
            "overflow_x": null,
            "grid_auto_flow": null,
            "grid_area": null,
            "grid_template_columns": null,
            "flex": null,
            "_model_name": "LayoutModel",
            "justify_items": null,
            "grid_row": null,
            "max_height": null,
            "align_content": null,
            "visibility": null,
            "align_self": null,
            "height": null,
            "min_height": null,
            "padding": null,
            "grid_auto_rows": null,
            "grid_gap": null,
            "max_width": null,
            "order": null,
            "_view_module_version": "1.2.0",
            "grid_template_areas": null,
            "object_position": null,
            "object_fit": null,
            "grid_auto_columns": null,
            "margin": null,
            "display": null,
            "left": null
          }
        },
        "5d024eaf9b02464aa5481799c66303cd": {
          "model_module": "@jupyter-widgets/controls",
          "model_name": "ButtonStyleModel",
          "state": {
            "_view_name": "StyleView",
            "_model_name": "ButtonStyleModel",
            "_view_module": "@jupyter-widgets/base",
            "_model_module_version": "1.5.0",
            "_view_count": null,
            "button_color": null,
            "font_weight": "",
            "_view_module_version": "1.2.0",
            "_model_module": "@jupyter-widgets/controls"
          }
        },
        "69dbf4ccb3434e01a38f2fabddbb37c9": {
          "model_module": "@jupyter-widgets/base",
          "model_name": "LayoutModel",
          "state": {
            "_view_name": "LayoutView",
            "grid_template_rows": null,
            "right": null,
            "justify_content": null,
            "_view_module": "@jupyter-widgets/base",
            "overflow": null,
            "_model_module_version": "1.2.0",
            "_view_count": null,
            "flex_flow": null,
            "width": null,
            "min_width": null,
            "border": null,
            "align_items": null,
            "bottom": null,
            "_model_module": "@jupyter-widgets/base",
            "top": null,
            "grid_column": null,
            "overflow_y": null,
            "overflow_x": null,
            "grid_auto_flow": null,
            "grid_area": null,
            "grid_template_columns": null,
            "flex": null,
            "_model_name": "LayoutModel",
            "justify_items": null,
            "grid_row": null,
            "max_height": null,
            "align_content": null,
            "visibility": null,
            "align_self": null,
            "height": null,
            "min_height": null,
            "padding": null,
            "grid_auto_rows": null,
            "grid_gap": null,
            "max_width": null,
            "order": null,
            "_view_module_version": "1.2.0",
            "grid_template_areas": null,
            "object_position": null,
            "object_fit": null,
            "grid_auto_columns": null,
            "margin": null,
            "display": null,
            "left": null
          }
        },
        "f2c406453916485eaaca200d5cda2f05": {
          "model_module": "@jupyter-widgets/controls",
          "model_name": "DescriptionStyleModel",
          "state": {
            "_view_name": "StyleView",
            "_model_name": "DescriptionStyleModel",
            "description_width": "",
            "_view_module": "@jupyter-widgets/base",
            "_model_module_version": "1.5.0",
            "_view_count": null,
            "_view_module_version": "1.2.0",
            "_model_module": "@jupyter-widgets/controls"
          }
        },
        "9127086817274fb5835624b2775714fd": {
          "model_module": "@jupyter-widgets/base",
          "model_name": "LayoutModel",
          "state": {
            "_view_name": "LayoutView",
            "grid_template_rows": null,
            "right": null,
            "justify_content": null,
            "_view_module": "@jupyter-widgets/base",
            "overflow": null,
            "_model_module_version": "1.2.0",
            "_view_count": null,
            "flex_flow": null,
            "width": null,
            "min_width": null,
            "border": null,
            "align_items": null,
            "bottom": null,
            "_model_module": "@jupyter-widgets/base",
            "top": null,
            "grid_column": null,
            "overflow_y": null,
            "overflow_x": null,
            "grid_auto_flow": null,
            "grid_area": null,
            "grid_template_columns": null,
            "flex": null,
            "_model_name": "LayoutModel",
            "justify_items": null,
            "grid_row": null,
            "max_height": null,
            "align_content": null,
            "visibility": null,
            "align_self": null,
            "height": null,
            "min_height": null,
            "padding": null,
            "grid_auto_rows": null,
            "grid_gap": null,
            "max_width": null,
            "order": null,
            "_view_module_version": "1.2.0",
            "grid_template_areas": null,
            "object_position": null,
            "object_fit": null,
            "grid_auto_columns": null,
            "margin": null,
            "display": null,
            "left": null
          }
        },
        "6890a33650b94609ad135e2657b12d52": {
          "model_module": "@jupyter-widgets/base",
          "model_name": "LayoutModel",
          "state": {
            "_view_name": "LayoutView",
            "grid_template_rows": null,
            "right": null,
            "justify_content": null,
            "_view_module": "@jupyter-widgets/base",
            "overflow": null,
            "_model_module_version": "1.2.0",
            "_view_count": null,
            "flex_flow": null,
            "width": null,
            "min_width": null,
            "border": null,
            "align_items": null,
            "bottom": null,
            "_model_module": "@jupyter-widgets/base",
            "top": null,
            "grid_column": null,
            "overflow_y": null,
            "overflow_x": null,
            "grid_auto_flow": null,
            "grid_area": null,
            "grid_template_columns": null,
            "flex": null,
            "_model_name": "LayoutModel",
            "justify_items": null,
            "grid_row": null,
            "max_height": null,
            "align_content": null,
            "visibility": null,
            "align_self": null,
            "height": null,
            "min_height": null,
            "padding": null,
            "grid_auto_rows": null,
            "grid_gap": null,
            "max_width": null,
            "order": null,
            "_view_module_version": "1.2.0",
            "grid_template_areas": null,
            "object_position": null,
            "object_fit": null,
            "grid_auto_columns": null,
            "margin": null,
            "display": null,
            "left": null
          }
        }
      }
    }
  },
  "cells": [
    {
      "cell_type": "code",
      "metadata": {
        "id": "9Yev6Nq6jYBh",
        "colab_type": "code",
        "colab": {
          "base_uri": "https://localhost:8080/",
          "height": 1000
        },
        "outputId": "5fc5eda9-d062-4498-f979-145f2a89e141"
      },
      "source": [
        "!pip install fastcore\n",
        "!pip install fastai --upgrade\n",
        "\n",
        "from fastai.vision.all import *\n",
        "from fastai.vision.widgets import *"
      ],
      "execution_count": 1,
      "outputs": [
        {
          "output_type": "stream",
          "text": [
            "Collecting fastcore\n",
            "\u001b[?25l  Downloading https://files.pythonhosted.org/packages/9e/09/3e8318f521147e11c89ec6018db3602e3e6b781d058ad8e91748e5e86507/fastcore-1.0.13-py3-none-any.whl (40kB)\n",
            "\r\u001b[K     |████████                        | 10kB 21.1MB/s eta 0:00:01\r\u001b[K     |████████████████                | 20kB 1.3MB/s eta 0:00:01\r\u001b[K     |████████████████████████▏       | 30kB 1.9MB/s eta 0:00:01\r\u001b[K     |████████████████████████████████| 40kB 1.8MB/s \n",
            "\u001b[?25hRequirement already satisfied: pip in /usr/local/lib/python3.6/dist-packages (from fastcore) (19.3.1)\n",
            "Requirement already satisfied: packaging in /usr/local/lib/python3.6/dist-packages (from fastcore) (20.4)\n",
            "Requirement already satisfied: pyparsing>=2.0.2 in /usr/local/lib/python3.6/dist-packages (from packaging->fastcore) (2.4.7)\n",
            "Requirement already satisfied: six in /usr/local/lib/python3.6/dist-packages (from packaging->fastcore) (1.15.0)\n",
            "Installing collected packages: fastcore\n",
            "Successfully installed fastcore-1.0.13\n",
            "Collecting fastai\n",
            "\u001b[?25l  Downloading https://files.pythonhosted.org/packages/f7/3a/b51217e92281aff734e7245558ba17bff23e373df70c0ddb10c4d2779a3e/fastai-2.0.13-py3-none-any.whl (355kB)\n",
            "\u001b[K     |████████████████████████████████| 358kB 2.9MB/s \n",
            "\u001b[?25hRequirement already satisfied, skipping upgrade: matplotlib in /usr/local/lib/python3.6/dist-packages (from fastai) (3.2.2)\n",
            "Requirement already satisfied, skipping upgrade: pyyaml in /usr/local/lib/python3.6/dist-packages (from fastai) (3.13)\n",
            "Requirement already satisfied, skipping upgrade: spacy in /usr/local/lib/python3.6/dist-packages (from fastai) (2.2.4)\n",
            "Requirement already satisfied, skipping upgrade: pillow in /usr/local/lib/python3.6/dist-packages (from fastai) (7.0.0)\n",
            "Requirement already satisfied, skipping upgrade: requests in /usr/local/lib/python3.6/dist-packages (from fastai) (2.23.0)\n",
            "Requirement already satisfied, skipping upgrade: torchvision>=0.7 in /usr/local/lib/python3.6/dist-packages (from fastai) (0.7.0+cu101)\n",
            "Requirement already satisfied, skipping upgrade: scikit-learn in /usr/local/lib/python3.6/dist-packages (from fastai) (0.22.2.post1)\n",
            "Requirement already satisfied, skipping upgrade: fastprogress>=0.2.4 in /usr/local/lib/python3.6/dist-packages (from fastai) (1.0.0)\n",
            "Requirement already satisfied, skipping upgrade: packaging in /usr/local/lib/python3.6/dist-packages (from fastai) (20.4)\n",
            "Requirement already satisfied, skipping upgrade: scipy in /usr/local/lib/python3.6/dist-packages (from fastai) (1.4.1)\n",
            "Requirement already satisfied, skipping upgrade: pandas in /usr/local/lib/python3.6/dist-packages (from fastai) (1.0.5)\n",
            "Requirement already satisfied, skipping upgrade: torch>=1.6.0 in /usr/local/lib/python3.6/dist-packages (from fastai) (1.6.0+cu101)\n",
            "Requirement already satisfied, skipping upgrade: pip in /usr/local/lib/python3.6/dist-packages (from fastai) (19.3.1)\n",
            "Requirement already satisfied, skipping upgrade: fastcore>=1.0.5 in /usr/local/lib/python3.6/dist-packages (from fastai) (1.0.13)\n",
            "Requirement already satisfied, skipping upgrade: numpy>=1.11 in /usr/local/lib/python3.6/dist-packages (from matplotlib->fastai) (1.18.5)\n",
            "Requirement already satisfied, skipping upgrade: cycler>=0.10 in /usr/local/lib/python3.6/dist-packages (from matplotlib->fastai) (0.10.0)\n",
            "Requirement already satisfied, skipping upgrade: python-dateutil>=2.1 in /usr/local/lib/python3.6/dist-packages (from matplotlib->fastai) (2.8.1)\n",
            "Requirement already satisfied, skipping upgrade: pyparsing!=2.0.4,!=2.1.2,!=2.1.6,>=2.0.1 in /usr/local/lib/python3.6/dist-packages (from matplotlib->fastai) (2.4.7)\n",
            "Requirement already satisfied, skipping upgrade: kiwisolver>=1.0.1 in /usr/local/lib/python3.6/dist-packages (from matplotlib->fastai) (1.2.0)\n",
            "Requirement already satisfied, skipping upgrade: tqdm<5.0.0,>=4.38.0 in /usr/local/lib/python3.6/dist-packages (from spacy->fastai) (4.41.1)\n",
            "Requirement already satisfied, skipping upgrade: srsly<1.1.0,>=1.0.2 in /usr/local/lib/python3.6/dist-packages (from spacy->fastai) (1.0.2)\n",
            "Requirement already satisfied, skipping upgrade: preshed<3.1.0,>=3.0.2 in /usr/local/lib/python3.6/dist-packages (from spacy->fastai) (3.0.2)\n",
            "Requirement already satisfied, skipping upgrade: thinc==7.4.0 in /usr/local/lib/python3.6/dist-packages (from spacy->fastai) (7.4.0)\n",
            "Requirement already satisfied, skipping upgrade: catalogue<1.1.0,>=0.0.7 in /usr/local/lib/python3.6/dist-packages (from spacy->fastai) (1.0.0)\n",
            "Requirement already satisfied, skipping upgrade: wasabi<1.1.0,>=0.4.0 in /usr/local/lib/python3.6/dist-packages (from spacy->fastai) (0.8.0)\n",
            "Requirement already satisfied, skipping upgrade: plac<1.2.0,>=0.9.6 in /usr/local/lib/python3.6/dist-packages (from spacy->fastai) (1.1.3)\n",
            "Requirement already satisfied, skipping upgrade: murmurhash<1.1.0,>=0.28.0 in /usr/local/lib/python3.6/dist-packages (from spacy->fastai) (1.0.2)\n",
            "Requirement already satisfied, skipping upgrade: cymem<2.1.0,>=2.0.2 in /usr/local/lib/python3.6/dist-packages (from spacy->fastai) (2.0.3)\n",
            "Requirement already satisfied, skipping upgrade: setuptools in /usr/local/lib/python3.6/dist-packages (from spacy->fastai) (50.3.0)\n",
            "Requirement already satisfied, skipping upgrade: blis<0.5.0,>=0.4.0 in /usr/local/lib/python3.6/dist-packages (from spacy->fastai) (0.4.1)\n",
            "Requirement already satisfied, skipping upgrade: idna<3,>=2.5 in /usr/local/lib/python3.6/dist-packages (from requests->fastai) (2.10)\n",
            "Requirement already satisfied, skipping upgrade: urllib3!=1.25.0,!=1.25.1,<1.26,>=1.21.1 in /usr/local/lib/python3.6/dist-packages (from requests->fastai) (1.24.3)\n",
            "Requirement already satisfied, skipping upgrade: chardet<4,>=3.0.2 in /usr/local/lib/python3.6/dist-packages (from requests->fastai) (3.0.4)\n",
            "Requirement already satisfied, skipping upgrade: certifi>=2017.4.17 in /usr/local/lib/python3.6/dist-packages (from requests->fastai) (2020.6.20)\n",
            "Requirement already satisfied, skipping upgrade: joblib>=0.11 in /usr/local/lib/python3.6/dist-packages (from scikit-learn->fastai) (0.16.0)\n",
            "Requirement already satisfied, skipping upgrade: six in /usr/local/lib/python3.6/dist-packages (from packaging->fastai) (1.15.0)\n",
            "Requirement already satisfied, skipping upgrade: pytz>=2017.2 in /usr/local/lib/python3.6/dist-packages (from pandas->fastai) (2018.9)\n",
            "Requirement already satisfied, skipping upgrade: future in /usr/local/lib/python3.6/dist-packages (from torch>=1.6.0->fastai) (0.16.0)\n",
            "Requirement already satisfied, skipping upgrade: importlib-metadata>=0.20; python_version < \"3.8\" in /usr/local/lib/python3.6/dist-packages (from catalogue<1.1.0,>=0.0.7->spacy->fastai) (1.7.0)\n",
            "Requirement already satisfied, skipping upgrade: zipp>=0.5 in /usr/local/lib/python3.6/dist-packages (from importlib-metadata>=0.20; python_version < \"3.8\"->catalogue<1.1.0,>=0.0.7->spacy->fastai) (3.1.0)\n",
            "Installing collected packages: fastai\n",
            "  Found existing installation: fastai 1.0.61\n",
            "    Uninstalling fastai-1.0.61:\n",
            "      Successfully uninstalled fastai-1.0.61\n",
            "Successfully installed fastai-2.0.13\n"
          ],
          "name": "stdout"
        }
      ]
    },
    {
      "cell_type": "markdown",
      "metadata": {
        "id": "UrK6EotKjYBt",
        "colab_type": "text"
      },
      "source": [
        "# The Amazing Bear Classifier!"
      ]
    },
    {
      "cell_type": "markdown",
      "metadata": {
        "id": "x3_FAPaOjYBv",
        "colab_type": "text"
      },
      "source": [
        "You need to know whether you're being chased by a dangerous grizzly, or a sweet teddy bear, and you need an answer *fast*? Then you've come to the right place. Take a pic of the potentially vicious killer, and click 'upload' to classify it. (Important: this only handles grizzly bears, black bears, and teddy bears. It will **not** give a sensible answer for polar bears, a bear market, a bear of a man, or hot dogs.\n",
        "\n",
        "----"
      ]
    },
    {
      "cell_type": "code",
      "metadata": {
        "id": "Z79rA91NjkX8",
        "colab_type": "code",
        "colab": {
          "base_uri": "https://localhost:8080/",
          "height": 34
        },
        "outputId": "e08597c0-29e5-4f94-b2a7-07a6b60705ba"
      },
      "source": [
        "from google.colab import drive\n",
        "drive.mount('/content/drive')"
      ],
      "execution_count": 2,
      "outputs": [
        {
          "output_type": "stream",
          "text": [
            "Mounted at /content/drive\n"
          ],
          "name": "stdout"
        }
      ]
    },
    {
      "cell_type": "code",
      "metadata": {
        "id": "DVCEQbxvjYB0",
        "colab_type": "code",
        "colab": {
          "base_uri": "https://localhost:8080/",
          "height": 69
        },
        "outputId": "2e895435-a128-41e0-d7e1-31213e1d4d74"
      },
      "source": [
        "%cd \"/content/drive/My Drive/myFastAI\"\n",
        "%ls\n",
        "path = Path()\n",
        "path.ls(file_exts='.pkl')"
      ],
      "execution_count": 3,
      "outputs": [
        {
          "output_type": "stream",
          "text": [
            "/content/drive/My Drive/myFastAI\n",
            "export-bears.pkl  export-looking.pkl  \u001b[0m\u001b[01;34mimages\u001b[0m/  \u001b[01;34mpersons\u001b[0m/\n"
          ],
          "name": "stdout"
        },
        {
          "output_type": "execute_result",
          "data": {
            "text/plain": [
              "(#2) [Path('export-bears.pkl'),Path('export-looking.pkl')]"
            ]
          },
          "metadata": {
            "tags": []
          },
          "execution_count": 3
        }
      ]
    },
    {
      "cell_type": "code",
      "metadata": {
        "id": "jTrr5iuCkguO",
        "colab_type": "code",
        "colab": {}
      },
      "source": [
        "learn_inf = load_learner(path/'export-bears.pkl', cpu=True)\n",
        "btn_upload = widgets.FileUpload()\n",
        "out_pl = widgets.Output()\n",
        "lbl_pred = widgets.Label()"
      ],
      "execution_count": 4,
      "outputs": []
    },
    {
      "cell_type": "code",
      "metadata": {
        "id": "BntNLt0ZjYB9",
        "colab_type": "code",
        "colab": {}
      },
      "source": [
        "def on_data_change(change):\n",
        "    lbl_pred.value = ''\n",
        "    img = PILImage.create(btn_upload.data[-1])\n",
        "    out_pl.clear_output()\n",
        "    with out_pl: display(img.to_thumb(128,128))\n",
        "    pred,pred_idx,probs = learn_inf.predict(img)\n",
        "    lbl_pred.value = f'Prediction: {pred}; Probability: {probs[pred_idx]:.04f}'"
      ],
      "execution_count": 5,
      "outputs": []
    },
    {
      "cell_type": "code",
      "metadata": {
        "id": "8F9fRI04jYCG",
        "colab_type": "code",
        "colab": {}
      },
      "source": [
        "btn_upload.observe(on_data_change, names=['data'])"
      ],
      "execution_count": 6,
      "outputs": []
    },
    {
      "cell_type": "code",
      "metadata": {
        "scrolled": false,
        "id": "O-4i9DiHjYCO",
        "colab_type": "code",
        "colab": {
          "base_uri": "https://localhost:8080/",
          "height": 198,
          "referenced_widgets": [
            "ba1b7ff4b09d479fa191698c5cd48c89",
            "2fbd3033f94b42d0b03a9d75eb7e61c5",
            "920cf61a12e949b2bfa595799f3246be",
            "57d0b807bb404086bb4ff0b06ad72362",
            "496550a8b15b41688ec7787935594cb4",
            "27c64b85f52640ca811b1aa78cef1dd2",
            "0b75a838f9074309975f7ebc8bb82f13",
            "b8de064a52084667af81d740ac6e95ad",
            "5d024eaf9b02464aa5481799c66303cd",
            "69dbf4ccb3434e01a38f2fabddbb37c9",
            "f2c406453916485eaaca200d5cda2f05",
            "9127086817274fb5835624b2775714fd",
            "6890a33650b94609ad135e2657b12d52"
          ]
        },
        "outputId": "6fa4951c-0824-4294-f485-13227cee9827"
      },
      "source": [
        "from ipywidgets import *\n",
        "\n",
        "display(VBox([widgets.Label('Select your bear!'), btn_upload, out_pl, lbl_pred]))"
      ],
      "execution_count": 7,
      "outputs": [
        {
          "output_type": "display_data",
          "data": {
            "application/vnd.jupyter.widget-view+json": {
              "model_id": "ba1b7ff4b09d479fa191698c5cd48c89",
              "version_minor": 0,
              "version_major": 2
            },
            "text/plain": [
              "VBox(children=(Label(value='Select your bear!'), FileUpload(value={}, description='Upload'), Output(), Label(v…"
            ]
          },
          "metadata": {
            "tags": []
          }
        },
        {
          "output_type": "display_data",
          "data": {
            "text/html": [
              ""
            ],
            "text/plain": [
              "<IPython.core.display.HTML object>"
            ]
          },
          "metadata": {
            "tags": []
          }
        }
      ]
    },
    {
      "cell_type": "code",
      "metadata": {
        "id": "3UcSvBL9jYCW",
        "colab_type": "code",
        "colab": {}
      },
      "source": [
        ""
      ],
      "execution_count": null,
      "outputs": []
    }
  ]
}